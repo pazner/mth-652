{
  "cells": [
    {
      "attachments": {},
      "cell_type": "markdown",
      "metadata": {},
      "source": [
        "# MTH 652: Advanced Numerical Analysis"
      ]
    },
    {
      "attachments": {},
      "cell_type": "markdown",
      "metadata": {},
      "source": [
        "## Homework Assignment 1"
      ]
    },
    {
      "cell_type": "markdown",
      "metadata": {
        "id": "d5sMJY4v8Tol"
      },
      "source": [
        "### Guidelines\n",
        "\n",
        "* Each student must complete their own assignment individually.\n",
        "  * Discussing with other students is allowed (encouraged!), but you must write your own answers and not copy off of others.\n",
        "* Submit the homework in one of the following formats:\n",
        "  * Jupyter notebook with **properly formatted LaTeX**\n",
        "  * PDF typeset with LaTeX\n",
        "  * **Hard copy** in class (not scanned)\n"
      ]
    },
    {
      "attachments": {},
      "cell_type": "markdown",
      "metadata": {},
      "source": [
        "### Questions from the textbook\n",
        "\n",
        "(2 points each)\n",
        "\n",
        "1. 2.x.7\n",
        "2. 2.x.8\n",
        "3. 2.x.9\n",
        "4. 5.x.2\n",
        "5. 5.x.8"
      ]
    },
    {
      "cell_type": "markdown",
      "metadata": {},
      "source": []
    }
  ],
  "metadata": {
    "colab": {
      "provenance": []
    },
    "kernelspec": {
      "display_name": "Python 3.10.8 64-bit",
      "language": "python",
      "name": "python3"
    },
    "language_info": {
      "codemirror_mode": {
        "name": "ipython",
        "version": 3
      },
      "file_extension": ".py",
      "mimetype": "text/x-python",
      "name": "python",
      "nbconvert_exporter": "python",
      "pygments_lexer": "ipython3",
      "version": "3.10.8 (main, Oct 13 2022, 09:48:40) [Clang 14.0.0 (clang-1400.0.29.102)]"
    },
    "vscode": {
      "interpreter": {
        "hash": "b0fa6594d8f4cbf19f97940f81e996739fb7646882a419484c72d19e05852a7e"
      }
    }
  },
  "nbformat": 4,
  "nbformat_minor": 0
}
