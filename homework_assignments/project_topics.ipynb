{
  "cells": [
    {
      "attachments": {},
      "cell_type": "markdown",
      "metadata": {},
      "source": [
        "# MTH 652: Advanced Numerical Analysis"
      ]
    },
    {
      "attachments": {},
      "cell_type": "markdown",
      "metadata": {},
      "source": [
        "## Project/Presentation Topics"
      ]
    },
    {
      "attachments": {},
      "cell_type": "markdown",
      "metadata": {
        "id": "d5sMJY4v8Tol"
      },
      "source": [
        "* Each student will pick a project topic\n",
        "* Generally the topics are \"first come, first served\" — in the case that two students are interested in the same topic, please try to discuss and resolve amongst yourselves\n",
        "* Students are welcome to propose their own topics, that the instructor will approve\n",
        "\n",
        "#### Project Guidelines\n",
        "\n",
        "* The projects will have four components:\n",
        "   * Reading: read an external reference (i.e. not sections from our textbook covered in class) on the topic\n",
        "   * Written summary of the external reference, written answers to questions\n",
        "   * Programming: write an example code illustrating the topic and the properties as they relate to the important topics from the written component\n",
        "   * Presentation: present and explain the topic to the class, answer questions from students and instructor"
      ]
    },
    {
      "attachments": {},
      "cell_type": "markdown",
      "metadata": {},
      "source": [
        "#### Topics\n",
        "\n",
        "* Convection-diffusion\n",
        "* Elasticity\n",
        "* Multigrid\n",
        "* Mixed methods\n",
        "* Fluids\n",
        "* Domain decomposition\n",
        "* Adaptivity\n",
        "\n",
        "**Note:** some of these topics will be discussed more in class, some less. Different choices of topics will require different levels of independece."
      ]
    }
  ],
  "metadata": {
    "colab": {
      "provenance": []
    },
    "kernelspec": {
      "display_name": "Python 3.10.8 64-bit",
      "language": "python",
      "name": "python3"
    },
    "language_info": {
      "codemirror_mode": {
        "name": "ipython",
        "version": 3
      },
      "file_extension": ".py",
      "mimetype": "text/x-python",
      "name": "python",
      "nbconvert_exporter": "python",
      "pygments_lexer": "ipython3",
      "version": "3.10.8 (main, Oct 13 2022, 09:48:40) [Clang 14.0.0 (clang-1400.0.29.102)]"
    },
    "vscode": {
      "interpreter": {
        "hash": "b0fa6594d8f4cbf19f97940f81e996739fb7646882a419484c72d19e05852a7e"
      }
    }
  },
  "nbformat": 4,
  "nbformat_minor": 0
}
