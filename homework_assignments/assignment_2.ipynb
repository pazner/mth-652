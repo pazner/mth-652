{
  "cells": [
    {
      "attachments": {},
      "cell_type": "markdown",
      "metadata": {},
      "source": [
        "# MTH 652: Advanced Numerical Analysis"
      ]
    },
    {
      "attachments": {},
      "cell_type": "markdown",
      "metadata": {},
      "source": [
        "## Homework Assignment 2"
      ]
    },
    {
      "cell_type": "markdown",
      "metadata": {
        "id": "d5sMJY4v8Tol"
      },
      "source": [
        "### Guidelines\n",
        "\n",
        "* Each student must complete their own assignment individually.\n",
        "  * Discussing with other students is allowed (encouraged!), but you must write your own answers and not copy off of others.\n",
        "* Submit the homework in one of the following formats:\n",
        "  * Jupyter notebook with **properly formatted LaTeX**\n",
        "  * PDF typeset with LaTeX\n",
        "  * **Hard copy** in class (not scanned)\n"
      ]
    },
    {
      "attachments": {},
      "cell_type": "markdown",
      "metadata": {},
      "source": [
        "Consider the convection-diffusion equation\n",
        "$$\n",
        "   -\\varepsilon \\Delta u + \\beta \\cdot \\nabla u = f,\n",
        "$$\n",
        "where $\\varepsilon > 0$ and $\\beta \\in \\mathbb{R}^d$."
      ]
    },
    {
      "attachments": {},
      "cell_type": "markdown",
      "metadata": {},
      "source": [
        "#### 1. (2 points)\n",
        "\n",
        "Write down the variational formulation for the convection-diffusion equation."
      ]
    },
    {
      "attachments": {},
      "cell_type": "markdown",
      "metadata": {},
      "source": [
        "#### 2. (2 points)\n",
        "\n",
        "Prove that the bilinear form is continuous (bounded) in $H^1(\\Omega)$.\n",
        "\n",
        "Write an estimate for the constant of continuity in terms of $\\varepsilon$ and $\\beta$."
      ]
    },
    {
      "attachments": {},
      "cell_type": "markdown",
      "metadata": {},
      "source": [
        "#### 3. (2 points)\n",
        "\n",
        "The coefficient $\\beta$ is the **convection velocity**. The velocity is called **incompressible** if $\\nabla \\cdot \\beta = 0$.\n",
        "\n",
        "Suppose that $\\beta$ is incompressible. Consider the case of homogeneous Dirichlet boundary conditions on $\\partial \\Omega$.\n",
        "\n",
        "Prove that the bilinear form is coercive in $H^1$. (**Hint:** split the convection term in half, and integrate one of the halves by parts, and use a vector calculus identity. Then use a coercivity result from the book)."
      ]
    },
    {
      "attachments": {},
      "cell_type": "markdown",
      "metadata": {},
      "source": [
        "#### 4. (2 points)\n",
        "\n",
        "Recall Céa's theorem gives the error estimate\n",
        "$$\n",
        "   \\| u - u_h \\|_V \\leq \\frac{C}{\\alpha} \\min_{v_h \\in V_h} \\| u - v_h \\|_V\n",
        "$$\n",
        "where $C$ is the constant of continuity and $\\alpha$ is the constant of coercivity.\n",
        "\n",
        "When $\\varepsilon$ is large relative to $\\beta$, the equation is called **diffusion-dominated**.\n",
        "When $\\varepsilon$ is small relative to $\\beta$, the equation is called **advection-dominated**.\n",
        "\n",
        "What happens to the error estimate in each of the above two cases? Explain in relation to your answers to questions 2 and 3.\n"
      ]
    },
    {
      "attachments": {},
      "cell_type": "markdown",
      "metadata": {},
      "source": [
        "#### 5. (2 points)\n",
        "\n",
        "Consider the one-dimensional convection-diffusion equation\n",
        "$$\n",
        "\\begin{aligned}\n",
        "   -\\varepsilon u'' + \\beta u' &= 0 \\quad\\text{in $[0,1]$} \\\\\n",
        "   u(0) &= 0 \\\\\n",
        "   u(1) &= 1\n",
        "\\end{aligned}\n",
        "$$\n",
        "with $\\varepsilon > 0$ and $\\beta > 0$.\n",
        "\n",
        "Find the solution to this equation (**Hint:** start with $u = \\exp(\\lambda x)$ where $\\lambda$ is a constant, and go from there)."
      ]
    },
    {
      "attachments": {},
      "cell_type": "markdown",
      "metadata": {},
      "source": [
        "#### 6. (2 points)\n",
        "\n",
        "What is the qualitative behavior of the solution in the diffusion-dominated and advection-dominated regimes?\n",
        "\n",
        "What is meant when it is said that the solution to this problem exhibits a boundary layer?"
      ]
    },
    {
      "attachments": {},
      "cell_type": "markdown",
      "metadata": {},
      "source": [
        "### Programming"
      ]
    },
    {
      "attachments": {},
      "cell_type": "markdown",
      "metadata": {},
      "source": [
        "#### 7. (4 points)\n",
        "\n",
        "Write an MFEM code that solves the two-dimensional stead convection-diffusion equation on the unit square $\\Omega = [0,1]^2$.\n",
        "\n",
        "$$\n",
        "   -\\varepsilon\\Delta u + \\beta \\cdot \\nabla u = f\n",
        "$$\n",
        "\n",
        "* At the left boundary, the Dirichlet condition $u = 0$ in enforced.\n",
        "* At the right boundary, the Dirichlet condition $u = 1$ in enforced.\n",
        "* Homogeneous Neumann (natural, do nothing) boundary conditions are enforced at the top and bottom.\n",
        "* The right-hand side is taken to be $f \\equiv 0$.\n",
        "* Use a 40 by 40 Cartesian mesh with $p = 2$ quadratic elements.\n",
        "* Initially, take $\\varepsilon = 1$ and $\\beta = (1, 0)$ (we will change these parameters later)\n",
        "\n",
        "The information and code snippets below will help you:\n",
        "\n",
        "* Look at how inhomogeneous Dirichlet boundary conditions are enforced in the example in Lecture 3 to do the same here. The boundaries are numbered starting with the bottom, and moving counter clockwise. For example, this will set the value of $u(1,y) = 1$.\n",
        "\n",
        "```python\n",
        "one_attributes = mfem.intArray([0, 1, 0, 0])\n",
        "one = mfem.ConstantCoefficient(1.0)\n",
        "u.ProjectBdrCoefficient(one, one_attributes)\n",
        "```\n",
        "\n",
        "* The convection term is added to the bilinear form using `ConvectionIntegrator`. The velocity is given as a vector coefficient:\n",
        "\n",
        "```python\n",
        "beta_vec = mfem.Vector([1.0, 0.0])\n",
        "beta = mfem.VectorConstantCoefficient(beta_vec)\n",
        "\n",
        "a.AddDomainIntegrator(mfem.ConvectionIntegrator(beta))\n",
        "```\n",
        "\n",
        "* Solve this system using \"GMRES\" and plot with GLVis:\n",
        "\n",
        "```python\n",
        "AA = mfem.OperatorHandle2SparseMatrix(A)\n",
        "M = mfem.GSSmoother(AA)\n",
        "mfem.GMRES(AA, M, B, X, 1, 1000, 1000, 1e-12, 0.0)\n",
        "a.RecoverFEMSolution(X, b, u)\n",
        "glvis((mesh, u))\n",
        "```"
      ]
    },
    {
      "attachments": {},
      "cell_type": "markdown",
      "metadata": {},
      "source": [
        "#### 8. (4 points)\n",
        "\n",
        "* Modify the parameters to solve the problem with:\n",
        "   * $\\varepsilon = 1, \\beta = (1, 0)$\n",
        "   * $\\varepsilon = 1, \\beta = (10, 0)$\n",
        "   * $\\varepsilon = 1, \\beta = (100, 0)$\n",
        "   * $\\varepsilon = 1, \\beta = (200, 0)$\n",
        "   * $\\varepsilon = 1, \\beta = (400, 0)$\n",
        "\n",
        "* What happens to the solution as $\\beta$ grows relative to $\\varepsilon$?\n",
        "* What happens to the discrete solution as $\\beta$ grows relative to $\\varepsilon$?\n",
        "* How does this relate to Céa's theorem?\n",
        "* How does this relate to the 1D example from questions 5 and 6?"
      ]
    }
  ],
  "metadata": {
    "colab": {
      "provenance": []
    },
    "kernelspec": {
      "display_name": "mth-652",
      "language": "python",
      "name": "mth-652"
    },
    "language_info": {
      "codemirror_mode": {
        "name": "ipython",
        "version": 3
      },
      "file_extension": ".py",
      "mimetype": "text/x-python",
      "name": "python",
      "nbconvert_exporter": "python",
      "pygments_lexer": "ipython3",
      "version": "3.10.8"
    },
    "vscode": {
      "interpreter": {
        "hash": "b0fa6594d8f4cbf19f97940f81e996739fb7646882a419484c72d19e05852a7e"
      }
    }
  },
  "nbformat": 4,
  "nbformat_minor": 0
}
