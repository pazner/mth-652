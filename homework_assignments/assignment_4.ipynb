{
  "cells": [
    {
      "attachments": {},
      "cell_type": "markdown",
      "metadata": {},
      "source": [
        "# MTH 652: Advanced Numerical Analysis"
      ]
    },
    {
      "attachments": {},
      "cell_type": "markdown",
      "metadata": {},
      "source": [
        "## Homework Assignment 4"
      ]
    },
    {
      "cell_type": "markdown",
      "metadata": {
        "id": "d5sMJY4v8Tol"
      },
      "source": [
        "### Guidelines\n",
        "\n",
        "* Each student must complete their own assignment individually.\n",
        "  * Discussing with other students is allowed (encouraged!), but you must write your own answers and not copy off of others.\n",
        "* Submit the homework in one of the following formats:\n",
        "  * Jupyter notebook with **properly formatted LaTeX**\n",
        "  * PDF typeset with LaTeX\n",
        "  * **Hard copy** in class (not scanned)\n"
      ]
    },
    {
      "attachments": {},
      "cell_type": "markdown",
      "metadata": {},
      "source": [
        "#### 1. (2 points)\n",
        "\n",
        "Implement the steepest descent method in Python. Terminate when the residual has norm less than $10^{-4}$."
      ]
    },
    {
      "cell_type": "code",
      "execution_count": 35,
      "metadata": {},
      "outputs": [],
      "source": [
        "import numpy as np\n",
        "\n",
        "def steepest_descent(A, b, x):\n",
        "   print(\"Iteration         Residual norm\")\n",
        "   print(\"------------------------------------\")\n",
        "   for i in range(1000):\n",
        "      # Print out the iteration number and residual norm:\n",
        "      # print(\"{:5d}             {:.8e}\".format(i, resnorm))\n",
        "      return"
      ]
    },
    {
      "attachments": {},
      "cell_type": "markdown",
      "metadata": {},
      "source": [
        "#### 2. (4 points)\n",
        "\n",
        "Implement the conjugate gradient method in Python. Terminate when the residual has norm less than $10^{-4}$"
      ]
    },
    {
      "cell_type": "code",
      "execution_count": 36,
      "metadata": {},
      "outputs": [],
      "source": [
        "def cg(A, b, x):\n",
        "   print(\"Iteration         Residual norm\")\n",
        "   print(\"------------------------------------\")\n",
        "   for i in range(1000):\n",
        "      # Print out the iteration number and residual norm:\n",
        "      # print(\"{:5d}             {:.8e}\".format(i, resnorm))\n",
        "      return"
      ]
    },
    {
      "attachments": {},
      "cell_type": "markdown",
      "metadata": {},
      "source": [
        "#### 3. (4 points)\n",
        "\n",
        "Solve the following system using steepest descent and conjugate gradient.\n",
        "\n",
        "Is convergence guaranteed? Does the convergence behavior match the theory?\n",
        "\n",
        "What is the role of $\\alpha$ and what happens for different $\\alpha$?\n",
        "\n",
        "```py\n",
        "n = 10\n",
        "alpha = 1.0\n",
        "A = np.random.rand(n,n)\n",
        "A = A.T.dot(A) + alpha*np.eye(n)\n",
        "b = np.random.rand(n)\n",
        "x = np.zeros(n)\n",
        "```"
      ]
    },
    {
      "attachments": {},
      "cell_type": "markdown",
      "metadata": {},
      "source": [
        "#### 4. (2 points)\n",
        "\n",
        "Let $M$ and $A$ be SPD. Let $M = E E^T$. Prove that the spectrum of $M^{-1}A $ is equal to that of $E^{-1} A E^{-T}$."
      ]
    },
    {
      "attachments": {},
      "cell_type": "markdown",
      "metadata": {},
      "source": [
        "#### 5. (4 points)\n",
        "\n",
        "Use your conjugate gradient implementation to solve a Poisson problem discretized using MFEM (use $p=1$ linear elements). Start with a $4 \\times 4$ mesh, and repeat this procedure three more times, each time refining the mesh uniformly. What happens to the number of iterations?\n",
        "\n",
        "Repeat the same exercise with the mass matrix ($L^2$ projection instead of Poisson problem). What happens to the number of iterations?\n",
        "\n",
        "What does this imply about the condition numbers of the mass and stiffness matrices?\n",
        "\n",
        "**Note:**\n",
        "\n",
        "* Convert the MFEM `OperatorPtr` to a `SparseMatrix` using:\n",
        "```py\n",
        "A_spmat = mfem.OperatorHandle2SparseMatrix(A)\n",
        "```\n",
        "* Convert the `SparseMatrix` to SciPy format using:\n",
        "```py\n",
        "from mfem.common.sparse_utils import sparsemat_to_scipycsr\n",
        "A_scipy = sparsemat_to_scipycsr(A_spmat, float)\n",
        "```\n",
        "* Get the NumPy array associated with the right-hand side using `B.GetDataArray()`"
      ]
    }
  ],
  "metadata": {
    "colab": {
      "provenance": []
    },
    "kernelspec": {
      "display_name": "mth-652",
      "language": "python",
      "name": "mth-652"
    },
    "language_info": {
      "codemirror_mode": {
        "name": "ipython",
        "version": 3
      },
      "file_extension": ".py",
      "mimetype": "text/x-python",
      "name": "python",
      "nbconvert_exporter": "python",
      "pygments_lexer": "ipython3",
      "version": "3.10.10"
    },
    "vscode": {
      "interpreter": {
        "hash": "b0fa6594d8f4cbf19f97940f81e996739fb7646882a419484c72d19e05852a7e"
      }
    }
  },
  "nbformat": 4,
  "nbformat_minor": 0
}
