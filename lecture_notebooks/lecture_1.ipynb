{
  "cells": [
    {
      "cell_type": "markdown",
      "metadata": {},
      "source": [
        "# MTH 652: Advanced Numerical Analysis"
      ]
    },
    {
      "cell_type": "markdown",
      "metadata": {},
      "source": [
        "## Lecture 1"
      ]
    },
    {
      "cell_type": "markdown",
      "metadata": {
        "id": "d5sMJY4v8Tol"
      },
      "source": [
        "### Topics\n",
        "\n",
        "* Class logistics\n",
        "  * Lectures\n",
        "  * Office hours\n",
        "  * Grading\n",
        "  * Text book\n",
        "* Software\n",
        "  * Canvas\n",
        "  * Colab\n",
        "* Introductions and background\n",
        "* Course goals and topics\n",
        "* Assignments and student presentations\n",
        "\n",
        "---\n",
        "\n",
        "* Short review on where we left off from MTH 651\n",
        "* Coercivity for Poisson problem, boundary conditions"
      ]
    },
    {
      "attachments": {},
      "cell_type": "markdown",
      "metadata": {},
      "source": [
        "Interpretation of diffusion problems:\n",
        "\n",
        "We have been interested in model problems of the form\n",
        "$$\n",
        "   -\\Delta u = f,\n",
        "$$\n",
        "which can be viewed as the **steady-state** version of the **heat equation**\n",
        "$$\n",
        "   \\frac{\\partial u}{\\partial t} - \\Delta u = f.\n",
        "$$\n",
        "\n",
        "The interpretation of the heat equation can be viewed by considering a \"control volume\" A, integrating over $A$, and using the divergence theorem.\n",
        "\n",
        "Recalling that\n",
        "$$\n",
        "   \\Delta u = \\nabla \\cdot (\\nabla u),\n",
        "$$\n",
        "we have\n",
        "$$\n",
        "   \\int_A (\\Delta u) \\, dx = \\int_{\\partial A} \\frac{\\partial u}{\\partial\\boldsymbol n} \\, ds,\n",
        "$$\n",
        "and so\n",
        "$$\n",
        "   \\int_A \\frac{\\partial u}{\\partial t} \\, dx = \\int_{\\partial A} \\frac{\\partial u}{\\partial\\boldsymbol n} \\, ds + \\int_A f \\, dx\n",
        "$$\n",
        "\n",
        "Moving the derivative out of the integral,\n",
        "$$\n",
        "   \\frac{\\partial}{\\partial t} \\int_A u \\, dx = \\int_{\\partial A} \\frac{\\partial u}{\\partial\\boldsymbol n} \\, ds + \\int_A f \\, dx\n",
        "$$\n",
        "\n",
        "Interpreting $u$ as a \"concentration\", this can be viewed as saying that the rate of change of concentration in a given cell is determined by the normal derivative of $u$ (or **flux**).\n",
        "The normal derivative measures the **rate of increase** pointing away from the cell, so $\\int_{\\partial A} \\frac{\\partial u}{\\partial\\boldsymbol n} \\, ds$ determines how much more concentrated the cells neighbors are than it is.\n",
        "This means that there is flow from highly concentrated regions to less concentrated regions.\n",
        "\n",
        "(The term $\\int_A f \\, dx$ is a **forcing term**, that represents the addition of material from outside the system, due to some external mechanism).\n",
        "\n",
        "This equation is called the **heat equation** because it models the diffusion of heat (temperature) in a medium.\n",
        "\n",
        "If this process reaches an equilibrium, then eventually the time derivative will become zero, and we are left withh the Poisson problem\n",
        "$$\n",
        "   -\\Delta u = f.\n",
        "$$\n",
        "\n",
        "Note that (making some assumptions about BCs), if there is zero forcing (i.e. no external concentration injected into the system), then the steady state solution will be constant."
      ]
    },
    {
      "attachments": {},
      "cell_type": "markdown",
      "metadata": {},
      "source": [
        "#### Positive-definite Helmholtz problem\n",
        "\n",
        "Recall the differential equation\n",
        "$$\n",
        "   \\alpha u - \\beta \\Delta u = f\n",
        "$$\n",
        "with $\\alpha, \\beta > 0$.\n",
        "\n",
        "This is known as a **definite** Helmholtz problem, or a steady reaction-diffusion equation.\n",
        "This is a modification of the above diffusion problem, by adding a **reaction term** $\\alpha u$ (this is a model problem, but this same structure can be used to model more realistic phenomena such as chemically reacting flow).\n",
        "The coefficients $\\alpha$ and $\\beta$ measure the relative strength of the reaction and diffusion phenomena.\n",
        "\n",
        "The corresponding variational problem is given by\n",
        "$$\n",
        "   a(u,v) = \\alpha (u, v) + \\beta (\\nabla u, \\nabla v),\n",
        "$$\n",
        "and it is easy to see that $a( \\cdot, \\cdot)$ is a continuous (bounded) and coercive bilinear form.\n",
        "Therefore, $a(\\cdot, \\cdot)$ defines an inner product, and there exists a unique solution (via Riesz representation), we have optimal (in the energy norm) error estimates via Galerkin orthogonality, etc.\n"
      ]
    },
    {
      "attachments": {},
      "cell_type": "markdown",
      "metadata": {},
      "source": [
        "#### Poisson problem"
      ]
    },
    {
      "attachments": {},
      "cell_type": "markdown",
      "metadata": {},
      "source": [
        "What about the case when $\\alpha = 0$?\n",
        "This is a Poisson problem.\n",
        "We consider **homogeneous** boundary conditions, meaning that the right-hand side of the BCs is zero.\n",
        "\n",
        "$$\n",
        "(*)\n",
        "\\left\\{\n",
        "\\begin{aligned}\n",
        "    -\\Delta u &= f \\qquad\\text{in $\\Omega$} \\\\\n",
        "    u &= 0 \\qquad\\text{on $\\Gamma_D \\subseteq \\partial\\Omega$} \\\\\n",
        "    \\frac{\\partial u}{\\partial \\boldsymbol n} &= 0 \\qquad\\text{on $\\Gamma_N = \\partial\\Omega \\setminus \\Gamma_D$}\n",
        "\\end{aligned}\n",
        "\\right.\n",
        "$$"
      ]
    },
    {
      "attachments": {},
      "cell_type": "markdown",
      "metadata": {},
      "source": [
        "We have **Dirichlet conditions** enforced at $\\Gamma_D$, and **Neumann conditions** enforced at $\\Gamma_N$.\n",
        "If $\\Gamma_D = \\partial \\Omega$, the BCs are called **pure Dirichlet**, and if $\\Gamma_N = \\partial \\Omega$, the BCs are called pure Neumann.\n",
        "\n",
        "For now, we assume $\\Gamma_D \\neq \\varnothing$, and defer discussion of the pure Neumann case until later."
      ]
    },
    {
      "attachments": {},
      "cell_type": "markdown",
      "metadata": {},
      "source": [
        "Dirichlet boundary conditions are enforced strongly (as part of the space itself), and are often called **essential** boundary conditions.\n",
        "\n",
        "In other words, we look for solutions that lie in the space\n",
        "$$\n",
        "   V = \\{ v \\in H^1(\\Omega) : v|_{\\Gamma_D} = 0 \\}\n",
        "$$\n",
        "\n",
        "(What tool allows us to make sense of the term $v|_{\\Gamma_D}$?)"
      ]
    },
    {
      "attachments": {},
      "cell_type": "markdown",
      "metadata": {},
      "source": [
        "To develop the variational formulation for $(*)$, we perform the standard procedure:\n",
        "\n",
        "1. Multiply by a test function $v$\n",
        "2. Integrate by parts\n",
        "\n",
        "Recall the integration by parts formula for $u \\in H^2(\\Omega)$ and $v \\in $H^1(\\Omega)$\n",
        "$$\n",
        "   - \\int_\\Omega (\\Delta u) v \\,dx = \\int_\\Omega \\nabla u \\cdot \\nabla v \\, dx - \\int_{\\partial\\Omega} \\frac{\\partial u}{\\partial \\boldsymbol n} v \\, ds\n",
        "$$"
      ]
    },
    {
      "attachments": {},
      "cell_type": "markdown",
      "metadata": {},
      "source": [
        "Suppose that $u \\in H^2(\\Omega)$ satisfies $(*)$.\n",
        "\n",
        "Then, the second term on the right-hand side vanishes:\n",
        "\n",
        "* On $\\Gamma_D$, we have $v = 0$\n",
        "* On $\\Gamma_N$, we have $\\partial u / \\partial \\boldsymbol n = 0$\n",
        "\n",
        "And of course $\\partial\\Omega = \\Gamma_D \\cup \\Gamma_N$"
      ]
    },
    {
      "attachments": {},
      "cell_type": "markdown",
      "metadata": {},
      "source": [
        "So, we define the bilinear form $a(\\cdot, \\cdot)$ by\n",
        "$$\n",
        "   a(u, v) = (\\nabla u, \\nabla v)\n",
        "$$"
      ]
    },
    {
      "attachments": {},
      "cell_type": "markdown",
      "metadata": {},
      "source": [
        "> **_PROPOSITION:_** If $u \\in H^2(\\Omega)$ satisfies $(*)$, then $a(u, v) = (f, v)$ for all $v \\in V$"
      ]
    },
    {
      "attachments": {},
      "cell_type": "markdown",
      "metadata": {},
      "source": [
        "What about the converse? If $u \\in H^2$ satisfies the variational problem:\n",
        "$$\n",
        "   \\text{Find $u \\in V$ such that}\n",
        "   \\ \n",
        "   a(u, v) = (f, v)\n",
        "   \\ \n",
        "   \\text{for all $v \\in V$,}\n",
        "$$\n",
        "then does $u$ also solve $(*)$?\n",
        "\n",
        "We can answer this question in the affirmative:\n",
        "\n",
        "> **_PROPOSITION:_** Suppose $u \\in H^2(\\Omega) \\cap V$ satisfies $a(u,v) = (f, v)$ for all $v \\in V$ (where $f \\in L^2(\\Omega)$). Then, $u$ solves the Poisson problem $(*)$ with homogeneous Dirichlet conditions on $\\Gamma_D$ and homogeneous Neumann conditions on $\\Gamma_N$.\n",
        "\n",
        "_Proof._\n",
        "The Dirichlet boundary condition on $u$ comes immediately from $u \\in V$.\n",
        "\n",
        "For any smooth test function $v \\in C^\\infty_0(\\Omega)$, we also have $v \\in V$, and so, integrating by parts\n",
        "$$\n",
        "   \\int_\\Omega (f + \\Delta u) v \\, dx = (f, v) - \\int_\\Omega \\nabla u \\cdot \\nabla v \\, dx = 0.\n",
        "$$\n",
        "Since $C^\\infty_0$ is dense in $L^2(\\Omega)$, we have that $f + \\Delta u = 0$ in $L^2(\\Omega)$, i.e. $\\Delta u = f$ a.e. (i.e. $u$ satisfies the differential equation pointwise a.e.)\n",
        "\n",
        "It remains to show that the Neumann boundary condition is satisfied.\n",
        "Since $a(u, v) = (f, v)$ for all $v \\in V$, we have that\n",
        "$$\n",
        "\\begin{aligned}\n",
        "   (f, v) &= a(u, v) \\\\\n",
        "   &= (\\nabla u, \\nabla v) \\\\\n",
        "   &= -(\\Delta u, v) + \\int_{\\partial\\Omega} \\frac{\\partial u}{\\partial \\boldsymbol n} v \\, ds \\\\\n",
        "   &= -(\\Delta u, v) + \\int_{\\Gamma_N} \\frac{\\partial u}{\\partial \\boldsymbol n} v \\, ds\n",
        "\\end{aligned}\n",
        "$$\n",
        "which implies\n",
        "$$\n",
        "   \\int_{\\Gamma_N} \\frac{\\partial u}{\\partial \\boldsymbol n} v \\, ds = 0\n",
        "$$\n",
        "for all $v \\in V$.\n",
        "\n",
        "The argument is a bit technical for general domains, but (see the text book), for any $w \\in C^\\infty(\\Gamma_N)$, we can find $v \\in V$ such that $v|_{\\Gamma_N} = w$,\n",
        "implying that\n",
        "$$\n",
        "   \\int_{\\Gamma_N} \\frac{\\partial u}{\\partial \\boldsymbol n} w \\, ds = 0\n",
        "$$\n",
        "for all smooth $w$.\n",
        "By the same density argument as above, this implies that $\\partial u / \\partial \\boldsymbol n = 0$ a.e., and the Neumann conditions are satisfied."
      ]
    },
    {
      "attachments": {},
      "cell_type": "markdown",
      "metadata": {},
      "source": [
        "The variational problem will allow us to prove existence and uniqueness of the solution to the differential equation."
      ]
    },
    {
      "attachments": {},
      "cell_type": "markdown",
      "metadata": {},
      "source": [
        "#### Pure Neumann problem\n",
        "\n",
        "Consider the differential equation $(*)$ with pure homogeneous Neumann conditions, i.e.\n",
        "$$\n",
        "   \\frac{\\partial u}{\\partial \\boldsymbol n} = 0 \\ \\text{on}\\ \\partial\\Omega\n",
        "$$"
      ]
    },
    {
      "attachments": {},
      "cell_type": "markdown",
      "metadata": {},
      "source": [
        "> Are solutions to this problem unique? Why?\n",
        "\n",
        "We see that if $u$ satisfies $(*)$ with pure Neumann conditions, then $u + c$ also does, for any constant $c$.\n",
        "\n",
        "Furthermore, depending on the right-hand side $f$, a solution is not necessarily guaranteed to exist!\n",
        "\n",
        "Note that\n",
        "$$\n",
        "   \\int_\\Omega f\\, dx = \\int_\\Omega -\\Delta u \\, dx = -\\int_{\\partial\\Omega} \\frac{\\partial u}{\\partial \\boldsymbol n} \\, ds = 0,\n",
        "$$\n",
        "and so for this equation to have a solution, we need to have\n",
        "$$\n",
        "   \\int_\\Omega f \\, dx = 0,\n",
        "$$\n",
        "i.e. $f$ must have **mean zero**.\n",
        "\n",
        "Note, for any integrable $g$, define the **mean** $\\overline{g}$ by\n",
        "$$\n",
        "   \\overline{g} = \\frac{1}{|\\Omega|}\\int_\\Omega g(dx)\\,dx\n",
        "$$\n",
        "\n",
        "The appropriate variational space for the pure Neumann problem is\n",
        "$$\n",
        "   V = \\{ v \\in H^1(\\Omega) : \\overline{v} = 0 \\}\n",
        "$$\n",
        "\n",
        "Suppose that $u$ satisfies the differential equation $(*)$.\n",
        "Then, as remarked before, $u - c$ also does, for all $c$.\n",
        "In particular, $u - \\overline{u}$ also solves the equation.\n",
        "It is easy to see that $\\tilde{u} = u - \\overline{u}$ solves the differential equation and the variational formulation, using the space $V$ defined above.\n",
        "\n",
        "Now, for the converse:\n",
        "\n",
        "Suppose that $f \\in L^2(\\Omega)$, and $u \\in H^2(\\Omega) \\cap V$ solves the variational problem with the space $V$ defined above.\n",
        "Then, $u$ solves the Poisson problem $(*)$ with pure Neumann conditions, and right-hand side defined by\n",
        "$$\n",
        "   \\tilde{f} = f - \\overline{f}.\n",
        "$$\n",
        "\n",
        "Note that since the test functions $v$ lie in the space $V$, they must have zero mean, and so\n",
        "$$\n",
        "   \\int_\\Omega v(x) (f(x) + c) \\, dx = \\int_\\Omega v(x) f(x) \\, dx + c \\int_\\Omega v(x) \\, dx = \\int_\\Omega v(x) f(x),\n",
        "$$\n",
        "so the variational problems corresponding to $f$ and $\\tilde{f}$ are actually the same.\n",
        "WLOG we from now on assume $f$ has mean zero.\n",
        "\n",
        "Repeating the argument of the previous case, we have that\n",
        "$$\n",
        "   \\int_\\Omega(-\\Delta u - f) v \\, dx = 0\n",
        "$$\n",
        "for all smooth, zero-mean test functions $v$.\n",
        "Using density of the smooth, zero-mean functions in the space of zero-mean $L^2$ functions, we have that\n",
        "$$\n",
        "   -\\Delta u = f + c\n",
        "$$\n",
        "for some constant $c$.\n",
        "\n",
        "To see this, suppose that\n",
        "$$\n",
        "   \\int_\\Omega g v \\, dx = 0\n",
        "$$\n",
        "for all zero-mean $L^2$ test funtions $v$.\n",
        "In other words,\n",
        "$$\n",
        "   \\int \\Omega g( w - \\overline{w}) \\, dx = 0\n",
        "$$\n",
        "for all $w \\in L^2$.\n",
        "But note that\n",
        "$$\n",
        "   \\int_\\Omega g \\overline{w} \\, dx \n",
        "   = \\overline{w} \\int_\\Omega g  \\, dx\n",
        "   = \\overline{g} \\int_\\Omega w \\, dx,\n",
        "$$\n",
        "and so\n",
        "$$\n",
        "   \\int_\\Omega (g - \\overline{g}) w \\, dx = \\int_\\Omega g (w - \\overline{w}) \\, dx = 0,\n",
        "$$\n",
        "for all $w \\in L^2$, and so $g \\equiv \\overline{g}$ (i.e. $g$ is equal to a constant).\n",
        "\n",
        "A similar argument to before shows that $\\partial u / \\partial\\boldsymbol n = 0$ on $\\partial\\Omega$.\n",
        "\n",
        "Finally,\n",
        "$$\n",
        "   \\int_\\Omega -\\Delta u \\, dx = \\int_{\\partial\\Omega} \\frac{\\partial u}{\\partial \\boldsymbol n} \\, ds = 0\n",
        "$$\n",
        "and\n",
        "$$\n",
        "   \\int_\\Omega -\\Delta u \\, dx = \\int_\\Omega (f + c) \\, dx = \\int_\\Omega c \\, dx\n",
        "$$\n",
        "since $f$ has zero mean.\n",
        "Combining the two above results, we have that $c = 0$, and $-\\Delta u = f$."
      ]
    },
    {
      "cell_type": "markdown",
      "metadata": {},
      "source": []
    }
  ],
  "metadata": {
    "kernelspec": {
      "display_name": "mth-651",
      "language": "python",
      "name": "mth-651"
    },
    "title": "Lecture 1",
    "vscode": {
      "interpreter": {
        "hash": "31f2aee4e71d21fbe5cf8b01ff0e069b9275f58929596ceb00d14d90e3e16cd6"
      }
    }
  },
  "nbformat": 4,
  "nbformat_minor": 0
}
