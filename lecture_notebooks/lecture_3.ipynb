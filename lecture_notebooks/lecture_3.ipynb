{
 "cells": [
  {
   "cell_type": "markdown",
   "metadata": {},
   "source": [
    "# MTH 652: Advanced Numerical Analysis"
   ]
  },
  {
   "attachments": {},
   "cell_type": "markdown",
   "metadata": {},
   "source": [
    "## Lecture 3"
   ]
  },
  {
   "attachments": {},
   "cell_type": "markdown",
   "metadata": {
    "id": "d5sMJY4v8Tol"
   },
   "source": [
    "### Topics\n",
    "\n",
    "* Inhomogeneous boundary conditions\n",
    "* General second-order elliptic operators\n",
    "* Non-symmetric variational problems"
   ]
  },
  {
   "cell_type": "markdown",
   "metadata": {},
   "source": [
    "#### Inhomogeneous boundary conditions\n",
    "\n",
    "Suppose that we now consider the problem\n",
    "$$\n",
    "\\left\\{\n",
    "\\begin{aligned}\n",
    "    -\\Delta u &= f \\qquad\\text{in $\\Omega$} \\\\\n",
    "    u &= g_D \\qquad\\text{on $\\Gamma_D \\subseteq \\partial\\Omega$} \\\\\n",
    "    \\frac{\\partial u}{\\partial \\boldsymbol n} &= g_N \\qquad\\text{on $\\Gamma_N = \\partial\\Omega \\setminus \\Gamma_D$}\n",
    "\\end{aligned}\n",
    "\\right.\n",
    "$$"
   ]
  },
  {
   "cell_type": "markdown",
   "metadata": {},
   "source": [
    "$g_N \\in L^2(\\Gamma_N)$, and, for simplicitly, we assume that $g_D \\in H^1(\\Omega)$.\n",
    "Then, we look for solutions $u$ that satisfy $u - g_D \\in V$ such that, for all $v \\in V$,\n",
    "$$\n",
    "   a(u, v) = (f, v) + \\int_{\\Gamma_N} g_N v \\, ds.\n",
    "$$\n",
    "\n",
    "The boundary term comes from integrating $-\\Delta u$ by parts and substituting the Neumann boundary condition.\n",
    "\n",
    "* Dirichlet (\"essential\") boundary conditions are enforced strongly\n",
    "* Neumann boundary conditions are enforced by modifying the right-hand side"
   ]
  },
  {
   "cell_type": "code",
   "execution_count": 1,
   "metadata": {},
   "outputs": [],
   "source": [
    "import mfem.ser as mfem\n",
    "from glvis import glvis\n",
    "import numpy as np"
   ]
  },
  {
   "cell_type": "code",
   "execution_count": 2,
   "metadata": {},
   "outputs": [],
   "source": [
    "# Create a mesh of a square domain\n",
    "mesh = mfem.Mesh(40, 40, \"TRIANGLE\")"
   ]
  },
  {
   "cell_type": "markdown",
   "metadata": {},
   "source": [
    "The four sides of the square are tagged with different \"attributes\":\n",
    "\n",
    "* The bottom side of the square has attribute 1\n",
    "* The right side of the square has attribute 2\n",
    "* The top side of the square has attribute 3\n",
    "* The left side of the square has attribute 4"
   ]
  },
  {
   "cell_type": "code",
   "execution_count": 3,
   "metadata": {},
   "outputs": [
    {
     "name": "stdout",
     "output_type": "stream",
     "text": [
      "Size of linear system: 14641\n"
     ]
    }
   ],
   "source": [
    "dirichlet_attributes = mfem.intArray([1, 0, 0, 1])\n",
    "neumann_attributes = mfem.intArray([0, 1, 1, 0])\n",
    "\n",
    "# Create finite element function space\n",
    "fec = mfem.H1_FECollection(3, mesh.Dimension())\n",
    "fes = mfem.FiniteElementSpace(mesh, fec)      \n",
    "\n",
    "class DiffusionCoefficient(mfem.MatrixPyCoefficient):\n",
    "    def __init__(self):\n",
    "       mfem.MatrixPyCoefficient.__init__(self, 2)\n",
    "    def EvalValue(self, x):\n",
    "        theta = 55.0/180.0*np.pi\n",
    "        ct = np.cos(theta)\n",
    "        st = np.sin(theta)\n",
    "        rot = np.array([[ct, -st], [st, ct]])\n",
    "        # return np.array([[1.0, 0.0], [0.0, 10.0]])\n",
    "        return rot.T @ np.array([[1.0, 0.0], [0.0, 10.0]]) @ rot\n",
    "\n",
    "# define Bilinear and Linear operator\n",
    "a = mfem.BilinearForm(fes)\n",
    "a.AddDomainIntegrator(mfem.DiffusionIntegrator(DiffusionCoefficient()))\n",
    "a.Assemble()\n",
    "\n",
    "b = mfem.LinearForm(fes)\n",
    "b.AddDomainIntegrator(mfem.DomainLFIntegrator(mfem.ConstantCoefficient(1.0)))\n",
    "\n",
    "# To enforce inhomogeneous Neumann conditions, we need to add a boundary\n",
    "# integrator to the right-hand side\n",
    "\n",
    "# Set the Dirichlet condition\n",
    "class NeumannCondition(mfem.PyCoefficient):\n",
    "    def EvalValue(self, x):\n",
    "        return 4*np.sin(10*np.pi*x[0]) + 2*np.cos(10*np.pi*x[1])\n",
    "\n",
    "b.AddBoundaryIntegrator(mfem.BoundaryLFIntegrator(NeumannCondition()),\n",
    "                        neumann_attributes)\n",
    "\n",
    "b.Assemble()\n",
    "\n",
    "# Enforce Dirichlet (essential) BCs on the bottom and left\n",
    "ess_tdof_list = mfem.intArray()\n",
    "fes.GetEssentialTrueDofs(dirichlet_attributes, ess_tdof_list)\n",
    "\n",
    "# Set the Dirichlet condition\n",
    "class DirichletCondition(mfem.PyCoefficient):\n",
    "    def EvalValue(self, x):\n",
    "        return np.sin(2*np.pi*x[0]) + np.cos(2*np.pi*x[1])\n",
    "\n",
    "u = mfem.GridFunction(fes)\n",
    "u.ProjectCoefficient(DirichletCondition())\n",
    "\n",
    "# form linear equation (AX=B)\n",
    "A = mfem.OperatorPtr()\n",
    "B = mfem.Vector()\n",
    "X = mfem.Vector()\n",
    "a.FormLinearSystem(ess_tdof_list, u, b, A, X, B);\n",
    "print(\"Size of linear system: \" + str(A.Height()))\n",
    "\n",
    "# solve it using PCG solver and store the solution to x\n",
    "AA = mfem.OperatorHandle2SparseMatrix(A)\n",
    "M = mfem.GSSmoother(AA)\n",
    "\n",
    "X.Assign(0.0)\n",
    "mfem.PCG(AA, M, B, X, 0, 1000, 1e-12, 0.0)\n",
    "a.RecoverFEMSolution(X, b, u)"
   ]
  },
  {
   "cell_type": "code",
   "execution_count": 4,
   "metadata": {},
   "outputs": [
    {
     "data": {
      "application/vnd.jupyter.widget-view+json": {
       "model_id": "22f26978165c499ab706118b752dd4f1",
       "version_major": 2,
       "version_minor": 0
      },
      "text/plain": [
       "glvis(data_str='MFEM mesh v1.0\\n\\n#\\n# MFEM Geometry Types (see mesh/geom.hpp):\\n#\\n# POINT       = 0\\n# SEGME…"
      ]
     },
     "metadata": {},
     "output_type": "display_data"
    }
   ],
   "source": [
    "glvis((mesh, u))"
   ]
  },
  {
   "cell_type": "markdown",
   "metadata": {},
   "source": [
    "#### General second-order elliptic operators\n",
    "\n",
    "Consider a symmetric matrix of coefficients $A = (a_{ij}(\\boldsymbol x))_{i,j=1}^d$.\n",
    "This matrix is said to be **uniformly elliptic** if it is positive definite, i.e.\n",
    "$$\n",
    "   \\sum_{i,j = 1}^d a_{ij}(\\boldsymbol x) \\xi_i \\xi_j \\geq \\alpha \\sum_{i=1}^d \\xi_i^2\n",
    "$$\n",
    "for almost all $\\boldsymbol{x} \\in \\Omega$, with $\\alpha > 0$.\n",
    "\n",
    "The **elliptic operator** associated with this coefficient is\n",
    "$$\n",
    "   Lu(x) = - \\sum_{i,j=1}^d \\frac{\\partial}{\\partial x_j} \\left( a_{ij}(\\boldsymbol{x}) \\frac{\\partial u}{\\partial x_i} (\\boldsymbol{x}) \\right)\n",
    "$$\n",
    "\n",
    "For example, if $A$ is the identity matrix, we recover the standard Laplacian.\n",
    "\n",
    "The bilinear form associated with this operator is given naturally by\n",
    "$$\n",
    "   a(u, v) = (A \\nabla u, \\nabla v),\n",
    "$$\n",
    "and by symmetry of $A$, $a(\\cdot, \\cdot)$ is a symmetric bilinear form.\n",
    "\n",
    "Positive-definiteness of the coefficients implies that\n",
    "$$\n",
    "   a(v, v) \\geq \\alpha | v |_{H^1(\\Omega)}^2\n",
    "$$"
   ]
  },
  {
   "attachments": {},
   "cell_type": "markdown",
   "metadata": {},
   "source": [
    "### Non-symmetric problems\n",
    "#### 2.6, 2.7, 2.8\n",
    "\n",
    "Suppose that $H$ is a Hilbert space, and $V \\subseteq H$ is a (closed) subspace\n",
    "\n",
    "Suppose we have a bilinear form $a(\\cdot, \\cdot)$ such that:\n",
    "\n",
    "* $a(\\cdot, \\cdot)$ is bounded (i.e. continuous) on $V$, and\n",
    "* $a(\\cdot, \\cdot)$ is coercive on $V$.\n",
    "* But, $a(\\cdot, \\cdot)$ is **not** necessarily symmetric\n",
    "\n",
    "We can, of course, define the variational problem just as before:\n",
    "\n",
    "> Given $F \\in V'$, find $u \\in V$ such that, for all $v \\in V$\n",
    "> $$ a(u, v) = F(v) $$\n",
    "\n",
    "And, as before, we can define the Galerkin approximation problem.\n",
    "Given a **finite-dimensional** subspace $V_h \\subseteq V$, we seek $u_h \\in V_h$ such that, for all $v_h in V_h$\n",
    "$$ a(u_h, v_h) = F(v_h) $$\n",
    "\n",
    "In the symmetric case, we understand how this works:\n",
    "\n",
    "* There exist unique solutions $u$ and $u_h$ (Riesz Representation Theorem)\n",
    "* The error $u - u_h$ is optimal in the energy norm, and quasi-optimal in the $V$ norm (depending on the constants of continuity and coercivity)\n",
    "* This has important applications to diffusion problems, diffusion-reaction problems, $L^2$ projection, etc.\n",
    "\n",
    "What can we say about the **non-symmetric** case?"
   ]
  },
  {
   "attachments": {},
   "cell_type": "markdown",
   "metadata": {},
   "source": [
    "As a motivating example, consider the **convection-diffusion-reaction** equation\n",
    "$$\n",
    "   -\\alpha \\Delta u + \\boldsymbol\\beta\\cdot\\nabla u + \\gamma u = f,\n",
    "$$\n",
    "where $\\alpha, \\gamma > 0$ and $\\beta \\in \\mathbb{R}^d$.\n",
    "The variational formulation for this problem is:\n",
    "\n",
    "$$\n",
    "   a(u, v) := \\int_\\Omega \\alpha \\nabla u \\cdot \\nabla v \\, dx\n",
    "      + \\int_\\Omega (\\beta \\cdot \\nabla u) v \\, dx\n",
    "      + \\int_\\Omega \\gamma u v \\, dx\n",
    "      = \\int_\\Omega f v \\, dx\n",
    "$$\n",
    "\n",
    "It is straightforward to see that $a(\\cdot, \\cdot)$ is continuous in $H^1$.\n",
    "\n",
    "We can also see that $a(\\cdot, \\cdot)$ is **coercive** as long as the magnitude of $\\beta$ is sufficiently small relative to $\\alpha$ and $\\gamma$."
   ]
  },
  {
   "attachments": {},
   "cell_type": "markdown",
   "metadata": {},
   "source": [
    "Our goal now is to prove existence and uniqueness of the solution to the variational problem\n",
    "$$ a(u, v) = F(v) \\qquad\\text{for all $v \\in V$} $$\n",
    "\n",
    "First, we recall the contraction mapping principle:\n",
    "\n",
    "> **_LEMMA (Contraction Mapping):_** Let $V$ be a Banach space, and $T : V \\to V$ satisfying\n",
    "> $$ \\| T v_1 - T v_2 \\| \\leq M \\| v_1 - v_2 \\| $$\n",
    "> for all $v_1, v_2 \\in V$, and $0 \\leq M < 1$.\n",
    ">\n",
    "> Then, there exists a unique **fixed point** $u$ such that $u = T u$.\n",
    "\n",
    "_Proof._\n",
    "Uniqueness.\n",
    "Suppose $T v_1 = v_1$ and $T v_2 = v_2$.\n",
    "Then,\n",
    "$$\n",
    "   \\| v_1 - v_2 \\| = \\| T v_1 - T v_2 \\| \\leq M \\| v_1 - v_2 \\|,\n",
    "$$\n",
    "(by the contraction mapping property), but $M < 1$, so we must have $\\| v_1 - v_2 \\| = 0$, and the fixed point is unique.\n",
    "\n",
    "Existence.\n",
    "Pick any $v_0 \\in V$, and define\n",
    "$$\n",
    "   v_i = T^i v_0 = T \\circ \\cdots \\circ T v_0.\n",
    "$$\n",
    "Note that $\\| v_{k+1} - v_{k} \\| = \\| T v_k - T v_{k-1} \\| \\leq M \\| v_k - v_{k-1} \\|$, and so\n",
    "$$\n",
    "   \\| v_{k+1} - v_k \\| \\leq M^k \\| v_1 - v_0 \\| \\to 0\n",
    "$$\n",
    "(Note that for arbitrary $i, j \\geq N$ for some $N$, the difference $\\| v_i - v_j \\|$ can be estimated using a telescoping argument and geometric series $\\sum_{k=0}^\\infty a r^k  = a / (1 - r)$), set $a = M^N, r = M$ (where $i$ is the smaller of $i$ and $j$).\n",
    "So, this sequence is Cauchy, and a limit $v$ exists,\n",
    "$$\n",
    "   v = \\lim_{k \\to \\infty} v_k = \\lim_{k \\to \\infty} T v_{k-1} = T \\lim_{k \\to \\infty} v_{k-1} = T v,\n",
    "$$\n",
    "using continuity, so $v$ is a fixed point."
   ]
  },
  {
   "attachments": {},
   "cell_type": "markdown",
   "metadata": {},
   "source": [
    "> **_THEOREM (Lax-Milgram):_** Let $V$ be a Hilbert space with inner product $(\\cdot, \\cdot)$, and let $a(\\cdot, \\cdot)$ be a continuous, coercive bilinear form (not necessarily symmetric), and let $F \\in V'$ be a continuous linear functional. Then, there exists a unique $u \\in V$ such that, for all $v \\in V$,\n",
    "> $$ a(u, v) = F(v).$$\n",
    "\n",
    "\n",
    "> _Proof._\n",
    ">\n",
    "> In the proof, we will use the constants $\\alpha$ and $C$:\n",
    "> $$\n",
    ">  \\begin{aligned}\n",
    ">     a(u, v) &\\leq C \\| u \\| \\| v \\| \\\\\n",
    ">     a(u, u) &\\geq \\alpha \\| u \\|^2 \\\\\n",
    ">  \\end{aligned}\n",
    "> $$\n",
    ">\n",
    "> For any $u \\in V$, let $A_u (v) = a(u, v)$. Note that $A_u$ is a continuous, linear functional ($A_u \\in V'$).\n",
    "> \n",
    "> Let $A : V \\to V'$ denote the map $u \\mapsto A_u$.\n",
    "> It is easy to check that $A$ is linear.\n",
    "> We can check that $A$ is also bounded (the dual norm of $A_u$ is bounded by $C \\| u \\|$, where $C$ is the constant of continuity of the bilinear form).\n",
    ">\n",
    "> By the Riesz Representation Theorem, for any $\\phi \\in V'$, there exists unique $\\tau_\\phi$ such that $(\\tau_\\phi, v) = \\phi(v)$ for all $v \\in V$.\n",
    "> Let $\\tau$ denote the mapping $\\phi \\mapsto \\tau_\\phi$.\n",
    "> Recall that $\\tau$ is a one-to-one isometry (i.e. $\\| \\tau_\\phi \\| = \\| \\phi \\|$ for all $\\phi$).\n",
    ">\n",
    "> Notice that our original goal of\n",
    "> $$ a(u, v) = F(v) $$\n",
    "> is equivalent to\n",
    "> $$ A_u (v) = F(v) $$\n",
    "> for all $v \\in V$, or simply\n",
    "> $$ A_u = F $$\n",
    "> in $V'$.\n",
    ">\n",
    "> Since the mapping $\\tau$ is one-to-one, this is equivalent to finding $u$ such that\n",
    "> $$ \\tau_{A_u} = \\tau_F. $$\n",
    ">\n",
    "> Define the operator $T : V \\to V$ by\n",
    "> $$ T v = v - \\rho(\\tau_{A_v} - \\tau_F) $$\n",
    "> for some $\\rho \\in \\mathbb{R}$, $\\rho \\neq 0$, to be determined.\n",
    ">\n",
    "> **If** $T$ is a contraction mapping, then there exists a unique fixed point $u$, such that\n",
    "> $$\n",
    ">  u = u - \\rho (\\tau_{A_u} - \\tau_F),\n",
    "> $$\n",
    "> and we have $\\tau_{A_u} - \\tau_F = 0$, so $u$ is the unique solution.\n",
    ">\n",
    "> Now, we show that there exists $\\rho \\neq 0$ such that $T$ is a contraction.\n",
    "> Let $v_1, v_2 \\in V$, and let $v = v_1 - v_2$.\n",
    "> Then,\n",
    "> $$\n",
    ">  \\begin{aligned}\n",
    ">     \\| T v_1 - T v_2 \\|^2\n",
    ">     &= \\| v_1 - v_2 - \\rho(\\tau_{A_{v_1}} - \\tau_{A_{v_2}}) \\|^2 \\\\\n",
    ">     &= \\| v - \\rho \\tau_{A_{v}} \\|^2 \\\\\n",
    ">     &= \\| v \\|^2 - 2 \\rho (\\tau_{A_v}, v) + \\rho^2 \\| \\tau_{A_v} \\|^2 \\\\\n",
    ">     &= \\| v \\|^2 - 2 \\rho A_v(v) + \\rho^2 A_v(\\tau_{A_v}) \\\\\n",
    ">     &= \\| v \\|^2 - 2 \\rho a(v, v) + \\rho^2 a(v, \\tau_{A_v}) \\\\\n",
    ">     &\\leq \\| v \\|^2 - 2 \\rho \\alpha \\| v \\|^2 + \\rho^2 C \\| v \\| \\| \\tau_{A_v} \\| \\\\\n",
    ">     &\\leq \\| v \\|^2 - 2 \\rho \\alpha \\| v \\|^2 + \\rho^2 C^2 \\| v \\| \\| v \\| \\\\\n",
    ">     &= (1 - 2\\rho\\alpha + \\rho^2 C^2) \\| v \\|^2 \\\\\n",
    ">     &= (1 - 2\\rho\\alpha + \\rho^2 C^2) \\| v_1 - v_2 \\|^2\n",
    ">  \\end{aligned}\n",
    "> $$\n",
    ">\n",
    "> For $T$ to be a contraction, we need to choose $\\rho \\neq 0$ such that\n",
    "> $$ 1 - 2\\rho\\alpha + \\rho^2 C^2 < 1 $$\n",
    "> i.e.\n",
    "> $$ \\rho(\\rho C^2 - 2\\alpha) < 0 $$\n",
    "> i.e. take $\\rho > 0$ and\n",
    "> $$ \\rho C^2 - 2\\alpha < 0 $$\n",
    "> So we can take any $\\rho$ such that\n",
    "> $$ 0 < \\rho < 2\\alpha / C^2 $$"
   ]
  }
 ],
 "metadata": {
  "kernelspec": {
   "display_name": "Python 3 (ipykernel)",
   "language": "python",
   "name": "python3"
  },
  "language_info": {
   "codemirror_mode": {
    "name": "ipython",
    "version": 3
   },
   "file_extension": ".py",
   "mimetype": "text/x-python",
   "name": "python",
   "nbconvert_exporter": "python",
   "pygments_lexer": "ipython3",
   "version": "3.10.8 (main, Oct 13 2022, 09:48:40) [Clang 14.0.0 (clang-1400.0.29.102)]"
  },
  "title": "Lecture 3",
  "vscode": {
   "interpreter": {
    "hash": "7b872a469691ea968089b37a03c3efa983bcf0e5d816bff1f8d732325b78f6a2"
   }
  }
 },
 "nbformat": 4,
 "nbformat_minor": 1
}
