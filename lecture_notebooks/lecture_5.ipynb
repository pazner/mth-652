{
 "cells": [
  {
   "cell_type": "markdown",
   "metadata": {},
   "source": [
    "# MTH 652: Advanced Numerical Analysis"
   ]
  },
  {
   "attachments": {},
   "cell_type": "markdown",
   "metadata": {},
   "source": [
    "## Lecture 5"
   ]
  },
  {
   "attachments": {},
   "cell_type": "markdown",
   "metadata": {
    "id": "d5sMJY4v8Tol"
   },
   "source": [
    "### Topics\n",
    "\n",
    "* Introduction to linear elasticity"
   ]
  },
  {
   "attachments": {},
   "cell_type": "markdown",
   "metadata": {},
   "source": [
    "We are interested in the study of the deformation of elastic solid bodies under external forces.\n",
    "\n",
    "Note that an **elastic** solid body is one that returns to its original configuration in the absence of external forces.\n",
    "(Think of a rubber stress ball --- when you squeeze it, it deforms, when you let go, it returns to its original shape).\n",
    "\n",
    "The undeformed body will be denoted $\\Omega \\subseteq \\mathbb{R}^d$, $d = 2$ or $d = 3$.\n",
    "For simplicity, we will often consider planar elasticity, i.e. bodies in $\\mathbb{R}^2$.\n",
    "The deformed domain can be written as the image of $\\Omega$ under a mapping $\\Phi : \\Omega \\to \\mathbb{R}^2$.\n",
    "$\\Phi(\\Omega)$ is called a **configuration** or **placement** of the body.\n",
    "\n",
    "Since we are interested in how the body **changes** under certain forces, we can write\n",
    "$$\n",
    "   \\Phi(\\boldsymbol x) = \\boldsymbol x + \\boldsymbol u (\\boldsymbol x),\n",
    "$$\n",
    "where $\\boldsymbol u(\\boldsymbol x)$ is known as the **displacement**.\n",
    "(Note if $\\boldsymbol u(\\boldsymbol x) \\equiv 0$, then the body is undeformed)."
   ]
  },
  {
   "attachments": {},
   "cell_type": "markdown",
   "metadata": {},
   "source": [
    "We will distinguish between **displacement** and **deformation**.\n",
    "\n",
    "A rigid-body motion (i.e. a combination of translation and rotation) is not considered a **deformation**, because the shape of $\\Omega$ doesn't change (but $\\boldsymbol u(\\boldsymbol x) \\not\\equiv 0$).\n",
    "\n",
    "Rigid motions have the form\n",
    "$$\n",
    "   \\Phi(\\boldsymbol x) = \\boldsymbol x_1 + Q(\\boldsymbol x - \\boldsymbol x_0),\n",
    "$$\n",
    "where $\\boldsymbol x_0$ and $\\boldsymbol x_1$ are fixed points, and $Q$ is a rotation matrix (note $Q^T Q = I$ for such matrices).\n",
    "\n",
    "Let $F(\\boldsymbol x) = D \\Phi(\\boldsymbol x)$ denote the **Jacobian matrix** of the transformation $\\Phi$ at point $\\boldsymbol x$.\n",
    "\n",
    "Note that by definition of the derivative, we have\n",
    "$$\n",
    "   \\lim_{\\boldsymbol v \\to 0} \\frac{ \\| \\Phi(\\boldsymbol x + \\boldsymbol v) - \\Phi(\\boldsymbol x) - F(\\boldsymbol x) \\boldsymbol v \\|}{\\| \\boldsymbol v \\|} = 0.\n",
    "$$\n",
    "\n",
    "In other words, consider a point $\\boldsymbol x \\in \\Omega$, and another point $\\boldsymbol x + \\boldsymbol v \\in \\Omega$.\n",
    "If these points are close together (i.e. $\\| \\boldsymbol v \\|$ is small), then the difference between the **transformed** points is well-approximated by\n",
    "$$\n",
    "   \\Phi(\\boldsymbol x + \\boldsymbol v) - \\Phi(\\boldsymbol x) \\approx F(\\boldsymbol x) \\boldsymbol v.\n",
    "$$\n",
    "\n",
    "Therefore,\n",
    "$$\n",
    "   \\| \\Phi(\\boldsymbol x + \\boldsymbol v) - \\Phi(\\boldsymbol x) \\|^2 \\approx \\| F(\\boldsymbol x) \\boldsymbol v \\|^2 = \\boldsymbol v^T F^T F \\boldsymbol v\n",
    "$$\n",
    "\n",
    "Assuming $\\Phi$ is a diffeomorphism, $\\det(F) \\neq 0$, so $F^T F$ is a symmetric, positive-definite matrix."
   ]
  },
  {
   "attachments": {},
   "cell_type": "markdown",
   "metadata": {},
   "source": [
    "For a **rigid motion**, we have $F(\\boldsymbol x) = D \\Phi(\\boldsymbol x) = Q$ (where $Q$ is a orthogonal matrix), and then $F^T F = I$, which makes sense, since the body $\\Omega$ is undeformed, and\n",
    "$$\n",
    "   \\| \\Phi(\\boldsymbol x + \\boldsymbol v) - \\Phi(\\boldsymbol x) \\|^2 \\approx \\| F(\\boldsymbol x) \\boldsymbol v \\|^2 = \\boldsymbol v^T F^T F \\boldsymbol v = \\boldsymbol v^T I \\boldsymbol v = \\| v \\|^2\n",
    "$$\n",
    "\n",
    "This motivates the definition of the **strain**\n",
    "$$\n",
    "   E(\\boldsymbol x) = \\frac{1}{2} \\left( (F^T F)(\\boldsymbol x) - I \\right),\n",
    "$$\n",
    "i.e. for every point $\\boldsymbol x \\in \\Omega$, the strain is a $d \\times d$ matrix.\n",
    "\n",
    "For rigid-body motions, $E(\\boldsymbol x) \\equiv 0$.\n",
    "\n",
    "Therefore, the strain will be a way of describing how much the body is deformed from the original configuration.\n",
    "It is a measure of much a given displacement differs from a rigid body displacement, which is a measure of deformation."
   ]
  },
  {
   "attachments": {},
   "cell_type": "markdown",
   "metadata": {},
   "source": [
    "Recall that the mapping $\\Phi$ can be written in terms of a displacement $\\boldsymbol u$, i.e.\n",
    "$$\n",
    "   \\Phi(\\boldsymbol x) = \\boldsymbol x + \\boldsymbol u(\\boldsymbol x).\n",
    "$$\n",
    "Then,\n",
    "$$\n",
    "   D \\Phi (\\boldsymbol x) = I + D \\boldsymbol u ( \\boldsymbol x ),\n",
    "$$\n",
    "and so\n",
    "$$\n",
    "   E(\\boldsymbol x) = \\frac{1}{2} \\left( D \\boldsymbol u + (D \\boldsymbol u)^T + (D \\boldsymbol u)^T (D \\boldsymbol u) \\right).\n",
    "$$\n",
    "\n",
    "**Linear elasticity** is used to model the case of **small deformations**, i.e. when $\\| D u \\| \\ll 1$.\n",
    "In this case, the quadratic term $(D \\boldsymbol u)^T (D \\boldsymbol u)$ is negligible compared with $D \\boldsymbol u$ and $D \\boldsymbol u^T$, and so we approximate\n",
    "$$\n",
    "   E \\approx \\varepsilon := \\nabla^s \\boldsymbol u = \\frac{1}{2}\\left( D \\boldsymbol u + (D \\boldsymbol u)^T \\right),\n",
    "$$\n",
    "where $\\nabla^s$ is denoted the **symmetric gradient**.\n",
    "\n",
    "The matrix $\\varepsilon$ is called the **infinitesimal strain tensor**."
   ]
  },
  {
   "attachments": {},
   "cell_type": "markdown",
   "metadata": {},
   "source": [
    "Note that even for rigid body motions, the approximate $E \\approx \\varepsilon$ is only valid for \"small deformations\", i.e. when $D \\boldsymbol u$ is small.\n",
    "For a rotation $Q$, we have $F = Q$, and so $E = 0$.\n",
    "However, $\\varepsilon = \\frac{1}{2}(Q + Q^T) - I \\neq 0$.\n",
    "When the rotation angle is small, then $\\varepsilon \\approx 0$, but for lage rotations, the infinitesimal strain tensor does not give the correct strain."
   ]
  }
 ],
 "metadata": {
  "kernelspec": {
   "display_name": "Python 3 (ipykernel)",
   "language": "python",
   "name": "python3"
  },
  "language_info": {
   "codemirror_mode": {
    "name": "ipython",
    "version": 3
   },
   "file_extension": ".py",
   "mimetype": "text/x-python",
   "name": "python",
   "nbconvert_exporter": "python",
   "pygments_lexer": "ipython3",
   "version": "3.10.8 (main, Oct 13 2022, 09:48:40) [Clang 14.0.0 (clang-1400.0.29.102)]"
  },
  "title": "Lecture 5",
  "vscode": {
   "interpreter": {
    "hash": "7b872a469691ea968089b37a03c3efa983bcf0e5d816bff1f8d732325b78f6a2"
   }
  }
 },
 "nbformat": 4,
 "nbformat_minor": 1
}
