{
 "cells": [
  {
   "cell_type": "markdown",
   "metadata": {},
   "source": [
    "## Heat equation and the Poisson problem"
   ]
  },
  {
   "cell_type": "code",
   "execution_count": 1,
   "metadata": {},
   "outputs": [],
   "source": [
    "import mfem.ser as mfem\n",
    "import numpy as np\n",
    "import time\n",
    "from glvis import glvis"
   ]
  },
  {
   "cell_type": "code",
   "execution_count": 2,
   "metadata": {},
   "outputs": [
    {
     "name": "stdout",
     "output_type": "stream",
     "text": [
      "Number of unknowns: 3721\n"
     ]
    }
   ],
   "source": [
    "order = 2\n",
    "mesh = mfem.Mesh(30, 30, \"TRIANGLE\")\n",
    "dim = mesh.Dimension()\n",
    "\n",
    "fec = mfem.H1_FECollection(order, dim)\n",
    "fes = mfem.FiniteElementSpace(mesh, fec)\n",
    "\n",
    "print(\"Number of unknowns: \" + str(fes.GetVSize()))\n",
    "\n",
    "def s1d(k, x):\n",
    "    return np.sin(2*k*np.pi*x)\n",
    "def u1d(k, x):\n",
    "    skx = s1d(k, x)\n",
    "    if skx == 0.0:\n",
    "        return 0.0\n",
    "    else:\n",
    "        return np.exp(-1.0 / (skx**2)) * np.sign(skx)\n",
    "def w1d(n, x):\n",
    "    val = 0.0\n",
    "    for j in range(0, n):\n",
    "        val += u1d(3**j, x)\n",
    "    return val\n",
    "\n",
    "class InitialCondition(mfem.PyCoefficient):\n",
    "    def EvalValue(self, xvec):\n",
    "        val = 1.0\n",
    "        for x in xvec:\n",
    "            val *= w1d(4, x)\n",
    "        return val\n",
    "\n",
    "ic_coeff = InitialCondition()\n",
    "\n",
    "u = mfem.GridFunction(fes)\n",
    "u.ProjectCoefficient(ic_coeff)"
   ]
  },
  {
   "cell_type": "code",
   "execution_count": 3,
   "metadata": {},
   "outputs": [
    {
     "data": {
      "application/vnd.jupyter.widget-view+json": {
       "model_id": "30fe763eec8949edbdfe9639a0434d46",
       "version_major": 2,
       "version_minor": 0
      },
      "text/plain": [
       "glvis(data_str='MFEM mesh v1.0\\n\\n#\\n# MFEM Geometry Types (see mesh/geom.hpp):\\n#\\n# POINT       = 0\\n# SEGME…"
      ]
     },
     "metadata": {},
     "output_type": "display_data"
    }
   ],
   "source": [
    "glvis((mesh, u))"
   ]
  },
  {
   "cell_type": "code",
   "execution_count": 4,
   "metadata": {},
   "outputs": [],
   "source": [
    "# 6. Set up and assemble the bilinear and linear forms corresponding to \n",
    "#    the DG discretization. The DGTraceIntegrator involves integrals over\n",
    "#    mesh interior faces.\n",
    "\n",
    "one = mfem.ConstantCoefficient(1.0)\n",
    "\n",
    "m = mfem.BilinearForm(fes)\n",
    "m.AddDomainIntegrator(mfem.MassIntegrator())\n",
    "k = mfem.BilinearForm(fes)\n",
    "k.AddDomainIntegrator(mfem.DiffusionIntegrator())\n",
    "b = mfem.LinearForm(fes)\n",
    "b.AddDomainIntegrator(mfem.DomainLFIntegrator(one))\n",
    "\n",
    "m.Assemble()\n",
    "m.Finalize()\n",
    "k.Assemble()\n",
    "k.Finalize()\n",
    "b.Assemble()\n",
    "\n",
    "ess_dofs = mfem.intArray()\n",
    "ess_bdr = mfem.intArray([1]*mesh.bdr_attributes.Size())\n",
    "fes.GetEssentialTrueDofs(ess_bdr, ess_dofs)\n",
    "\n",
    "M = mfem.OperatorPtr()\n",
    "K = mfem.OperatorPtr()\n",
    "m.FormSystemMatrix(ess_dofs, M)\n",
    "k.FormSystemMatrix(ess_dofs, K)\n"
   ]
  },
  {
   "cell_type": "markdown",
   "metadata": {},
   "source": [
    "### Solve and Plot the Solution with GLVis"
   ]
  },
  {
   "cell_type": "code",
   "execution_count": 5,
   "metadata": {},
   "outputs": [
    {
     "data": {
      "application/vnd.jupyter.widget-view+json": {
       "model_id": "b19c83d7656a4253858f3acaf631e463",
       "version_major": 2,
       "version_minor": 0
      },
      "text/plain": [
       "glvis(data_str='MFEM mesh v1.0\\n\\n#\\n# MFEM Geometry Types (see mesh/geom.hpp):\\n#\\n# POINT       = 0\\n# SEGME…"
      ]
     },
     "metadata": {},
     "output_type": "display_data"
    },
    {
     "name": "stdout",
     "output_type": "stream",
     "text": [
      "time step: 5000, time: 1.00e-01\r"
     ]
    }
   ],
   "source": [
    "u.ProjectCoefficient(ic_coeff)\n",
    "\n",
    "g = glvis((mesh, u))\n",
    "g.render()\n",
    "\n",
    "class FE_Evolution(mfem.PyTimeDependentOperator):\n",
    "    def __init__(self, M, K, b):\n",
    "        mfem.PyTimeDependentOperator.__init__(self, M.Size())\n",
    "        self.K = K        \n",
    "        self.M = M\n",
    "        self.b = b\n",
    "        self.z = mfem.Vector(M.Size())\n",
    "        self.zp = np.zeros(M.Size())\n",
    "        self.M_prec = mfem.DSmoother()        \n",
    "        self.M_solver = mfem.CGSolver()\n",
    "        self.M_solver.SetPreconditioner(self.M_prec)        \n",
    "        self.M_solver.SetOperator(M)\n",
    "        self.M_solver.iterative_mode = False\n",
    "        self.M_solver.SetRelTol(1e-9)\n",
    "        self.M_solver.SetAbsTol(0.0)\n",
    "        self.M_solver.SetMaxIter(1000)\n",
    "        self.M_solver.SetPrintLevel(0)\n",
    "        \n",
    "    def Mult(self, x, y):\n",
    "        self.K.Mult(x, self.z)\n",
    "        self.z *= -1.0\n",
    "        self.z += b\n",
    "        self.M_solver.Mult(self.z, y)\n",
    "\n",
    "heat_eq = FE_Evolution(mfem.OperatorHandle2SparseMatrix(M), mfem.OperatorHandle2SparseMatrix(K), b)\n",
    "\n",
    "ode_solver = mfem.RK4Solver()\n",
    "ode_solver.Init(heat_eq)\n",
    "\n",
    "t = 0.0\n",
    "ti = 0\n",
    "dt = 2e-5\n",
    "t_final = 1e-1\n",
    "vis_steps = 5\n",
    "\n",
    "time.sleep(1)\n",
    "while True:\n",
    "    if t > t_final - dt/2: break\n",
    "    t, dt = ode_solver.Step(u, t, dt);\n",
    "    ti = ti + 1\n",
    "    if ti % vis_steps == 0:\n",
    "        g.update((mesh, u))\n",
    "        time.sleep(0.05)\n",
    "        print(f\"time step: {ti}, time: {t:.2e}\", end=\"\\r\")"
   ]
  },
  {
   "cell_type": "code",
   "execution_count": 6,
   "metadata": {},
   "outputs": [
    {
     "name": "stdout",
     "output_type": "stream",
     "text": [
      "   Iteration :   0  (B r, r) = 0.000156583\n",
      "   Iteration :   1  (B r, r) = 0.000983425\n",
      "   Iteration :   2  (B r, r) = 0.000986053\n",
      "   Iteration :   3  (B r, r) = 0.00122757\n",
      "   Iteration :   4  (B r, r) = 0.000895496\n",
      "   Iteration :   5  (B r, r) = 0.000667813\n",
      "   Iteration :   6  (B r, r) = 0.000700479\n",
      "   Iteration :   7  (B r, r) = 0.000521907\n",
      "   Iteration :   8  (B r, r) = 0.000401969\n",
      "   Iteration :   9  (B r, r) = 0.000401193\n",
      "   Iteration :  10  (B r, r) = 0.00027078\n",
      "   Iteration :  11  (B r, r) = 0.000194821\n",
      "   Iteration :  12  (B r, r) = 0.000184164\n",
      "   Iteration :  13  (B r, r) = 0.000143731\n",
      "   Iteration :  14  (B r, r) = 9.08703e-05\n",
      "   Iteration :  15  (B r, r) = 6.59717e-05\n",
      "   Iteration :  16  (B r, r) = 4.44696e-05\n",
      "   Iteration :  17  (B r, r) = 2.69184e-05\n",
      "   Iteration :  18  (B r, r) = 1.38891e-05\n",
      "   Iteration :  19  (B r, r) = 6.23162e-06\n",
      "   Iteration :  20  (B r, r) = 1.89955e-06\n",
      "   Iteration :  21  (B r, r) = 5.54674e-07\n",
      "   Iteration :  22  (B r, r) = 5.77362e-07\n",
      "   Iteration :  23  (B r, r) = 6.39444e-07\n",
      "   Iteration :  24  (B r, r) = 1.61652e-07\n",
      "   Iteration :  25  (B r, r) = 1.08375e-07\n",
      "   Iteration :  26  (B r, r) = 5.51775e-08\n",
      "   Iteration :  27  (B r, r) = 2.92706e-08\n",
      "   Iteration :  28  (B r, r) = 1.73956e-08\n",
      "   Iteration :  29  (B r, r) = 9.30612e-09\n",
      "   Iteration :  30  (B r, r) = 5.00367e-09\n",
      "   Iteration :  31  (B r, r) = 2.10218e-09\n",
      "   Iteration :  32  (B r, r) = 9.20776e-10\n",
      "   Iteration :  33  (B r, r) = 4.22629e-10\n",
      "   Iteration :  34  (B r, r) = 1.66422e-10\n",
      "   Iteration :  35  (B r, r) = 5.77514e-11\n",
      "   Iteration :  36  (B r, r) = 1.81029e-11\n",
      "   Iteration :  37  (B r, r) = 6.47896e-12\n",
      "   Iteration :  38  (B r, r) = 2.33571e-12\n",
      "   Iteration :  39  (B r, r) = 1.44243e-12\n",
      "   Iteration :  40  (B r, r) = 1.35763e-12\n",
      "   Iteration :  41  (B r, r) = 1.85929e-12\n",
      "   Iteration :  42  (B r, r) = 1.86013e-12\n",
      "   Iteration :  43  (B r, r) = 1.57902e-12\n",
      "   Iteration :  44  (B r, r) = 8.31259e-13\n",
      "   Iteration :  45  (B r, r) = 2.33403e-13\n",
      "   Iteration :  46  (B r, r) = 6.47797e-14\n",
      "   Iteration :  47  (B r, r) = 2.28189e-14\n",
      "   Iteration :  48  (B r, r) = 6.54222e-15\n",
      "   Iteration :  49  (B r, r) = 2.2288e-15\n",
      "   Iteration :  50  (B r, r) = 1.20774e-15\n",
      "   Iteration :  51  (B r, r) = 7.0997e-16\n",
      "   Iteration :  52  (B r, r) = 4.79445e-16\n",
      "   Iteration :  53  (B r, r) = 2.47545e-16\n",
      "   Iteration :  54  (B r, r) = 9.49208e-17\n",
      "Average reduction factor = 0.770684\n"
     ]
    },
    {
     "data": {
      "application/vnd.jupyter.widget-view+json": {
       "model_id": "2c3a068a41b04416acc8b54dd1fefe03",
       "version_major": 2,
       "version_minor": 0
      },
      "text/plain": [
       "glvis(data_str='MFEM mesh v1.0\\n\\n#\\n# MFEM Geometry Types (see mesh/geom.hpp):\\n#\\n# POINT       = 0\\n# SEGME…"
      ]
     },
     "metadata": {},
     "output_type": "display_data"
    }
   ],
   "source": [
    "u.Assign(0.0)\n",
    "U = mfem.Vector()\n",
    "B = mfem.Vector()\n",
    "k.FormLinearSystem(ess_dofs, u, b, K, U, B)\n",
    "\n",
    "# solve it using PCG solver and store the solution to x\n",
    "GS = mfem.GSSmoother(mfem.OperatorHandle2SparseMatrix(K))\n",
    "mfem.PCG(K, GS, B, U, 1, 200, 1e-12, 0.0)\n",
    "k.RecoverFEMSolution(U, b, u)\n",
    "\n",
    "glvis((mesh, u))"
   ]
  }
 ],
 "metadata": {
  "kernelspec": {
   "display_name": "mth-652",
   "language": "python",
   "name": "mth-652"
  },
  "language_info": {
   "codemirror_mode": {
    "name": "ipython",
    "version": 3
   },
   "file_extension": ".py",
   "mimetype": "text/x-python",
   "name": "python",
   "nbconvert_exporter": "python",
   "pygments_lexer": "ipython3",
   "version": "3.10.8"
  }
 },
 "nbformat": 4,
 "nbformat_minor": 4
}
